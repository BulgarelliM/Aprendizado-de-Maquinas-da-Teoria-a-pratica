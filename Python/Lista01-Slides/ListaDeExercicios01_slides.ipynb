{
 "cells": [
  {
   "cell_type": "markdown",
   "metadata": {},
   "source": [
    "Exercicio 01: Funcao maior(a,b): Retorna o maior valor entre a e b"
   ]
  },
  {
   "cell_type": "code",
   "execution_count": 1,
   "metadata": {},
   "outputs": [
    {
     "name": "stdout",
     "output_type": "stream",
     "text": [
      "Esta funcao gera dois numeros randomicamente, compara e informa o maior deles. \n",
      "\n",
      "O valor obtido para a foi: 0.0852648462657476 \n",
      "O valor obtido para b foi: 0.7292411846686566\n",
      "\n",
      "O maior valor eh: 0.7292411846686566\n"
     ]
    }
   ],
   "source": [
    "# Retorna o maior valor entre a e b\n",
    "\n",
    "from random import random\n",
    "\n",
    "def maior(a:float, b:float) -> float:\n",
    "    # A variavel c armazena o maior valor\n",
    "    if a<b:\n",
    "        # O maior valor eh: b\n",
    "        c: float=b\n",
    "    elif a>b:\n",
    "        #O maior valor eh: a\n",
    "        c: float=a\n",
    "    else:\n",
    "        print(\"Os valores de a e b sao iguais\")\n",
    "        c: float=a\n",
    "    return c\n",
    "\n",
    "#************************************************\n",
    "print(\"Esta funcao gera dois numeros randomicamente, compara e informa o maior deles. \\n\")\n",
    "\n",
    "a: float = random()\n",
    "b: float = random()\n",
    "print(f\"O valor obtido para a foi: {a} \\nO valor obtido para b foi: {b}\\n\")\n",
    "\n",
    "print(f\"O maior valor eh: {maior(a,b)}\")\n",
    "\n"
   ]
  },
  {
   "cell_type": "markdown",
   "metadata": {},
   "source": [
    "Exercicio 02: Funcao soma(lista,x): retorna o somatório dos valores passados pela lista. O argumento x deve ser opcional que, se passado, será somado ao resultado final."
   ]
  },
  {
   "cell_type": "code",
   "execution_count": 2,
   "metadata": {},
   "outputs": [
    {
     "name": "stdout",
     "output_type": "stream",
     "text": [
      "Esta funcao retorna o somatório dos valores passados por uma lista. \n",
      "\n",
      "Tamanho da lista: 2\n",
      "listinha: [2, 2]\n",
      "\n",
      "Inserir valor extra a ser somado? (s ou n): n\n",
      "\n",
      "O somatorio total dos itens da lista eh: 4\n"
     ]
    }
   ],
   "source": [
    "# Retorna o somatório dos valores passados pela lista\n",
    "\n",
    "from random import * # Os valores da lista serao preenchidos de maneira randomica\n",
    "from typing import List, Set, Dict, Tuple, Optional\n",
    "\n",
    "def soma(listinha:List[int], x:int=0) -> int:\n",
    "    somatorio: int = 0\n",
    "    i: int\n",
    "    item: object\n",
    "    for i,item in enumerate(listinha):\n",
    "        somatorio = somatorio + item\n",
    "        #print(f\"{i}: {item}\")\n",
    "    somatorio = somatorio + x\n",
    "    return somatorio\n",
    "\n",
    "#**************************************\n",
    "print(\"Esta funcao retorna o somatório dos valores passados por uma lista. \\n\")\n",
    "\n",
    "listinha: List[int] = [] # Cria a lista\n",
    "\n",
    "# O tamanho da lista tambem sera definido como um numero de 2 a 9\n",
    "tamLista: int = randrange(2,9)\n",
    "print(f\"Tamanho da lista: {tamLista}\")\n",
    "\n",
    "# preenche lista\n",
    "i: int=0\n",
    "while i<tamLista:\n",
    "    num1: int = randrange(0,9)\n",
    "    listinha.append(num1)\n",
    "    i=i+1\n",
    "print(f\"listinha: {listinha}\\n\")\n",
    "\n",
    "# Solicita um X\n",
    "insereX: str = input(\"Inserir valor extra a ser somado? (s ou n): \")\n",
    "if (insereX == \"s\") or (insereX == \"S\"):\n",
    "    valor: int = int(input(\"Digite um valor:\"))\n",
    "    print(f\"\\nO somatorio total dos itens da lista com o argumento X ({valor}) eh: {soma(listinha, valor)}\")\n",
    "else:\n",
    "    print(f\"\\nO somatorio total dos itens da lista eh: {soma(listinha)}\")\n"
   ]
  },
  {
   "cell_type": "markdown",
   "metadata": {},
   "source": [
    "Exercicio 03: Funcao media(lista): Retorna a média dos valores passados pela lista."
   ]
  },
  {
   "cell_type": "code",
   "execution_count": 3,
   "metadata": {},
   "outputs": [
    {
     "name": "stdout",
     "output_type": "stream",
     "text": [
      "Esta funcao retorna a média dos valores passados pela lista. \n",
      "\n",
      "tamanho da lista: 6\n",
      "lista: [0.396703649630725, 0.43441314708291734, 0.14829228479520895, 0.2212342783735074, 0.7861805550453811, 0.5177645976638667]\n",
      "\n",
      "A média dos valores da lista eh: 0.41743141876526774.\n"
     ]
    }
   ],
   "source": [
    "# Retorna a média dos valores passados pela lista.\n",
    "\n",
    "from random import * # Os valores da lista serao preenchidos de maneira randomica\n",
    "from typing import List\n",
    "\n",
    "def media(lista:List[float]) -> float:\n",
    "    soma: float=0.0\n",
    "    y: int=0\n",
    "    while y<len(lista):\n",
    "        soma = soma + lista[y]\n",
    "        y = y+1\n",
    "    medio: float = soma/len(lista)\n",
    "    return medio\n",
    "\n",
    "#**************************************\n",
    "print(\"Esta funcao retorna a média dos valores passados pela lista. \\n\")\n",
    "listinha: List[float]= [] # Cria a lista\n",
    "\n",
    "# O tamanho da lista tambem sera definido como um numero de 2 a 9\n",
    "tamLista: int = randrange(2,9)\n",
    "print(f\"tamanho da lista: {tamLista}\")\n",
    "\n",
    "# preenche lista\n",
    "i: int=0\n",
    "while i<tamLista:\n",
    "    num: float = random()\n",
    "    listinha.append(num)\n",
    "    i=i+1\n",
    "    \n",
    "print(f\"lista: {listinha}\\n\")\n",
    "\n",
    "print(f\"A média dos valores da lista eh: {media(listinha)}.\")\n",
    "\n",
    "    "
   ]
  },
  {
   "cell_type": "markdown",
   "metadata": {},
   "source": [
    "Exercicio 04: Funcao valores_iguais(lista1,lista2): retorna uma lista contendo os valores iguais entre as duas listas passadas como parâmetro"
   ]
  },
  {
   "cell_type": "code",
   "execution_count": 6,
   "metadata": {},
   "outputs": [
    {
     "name": "stdout",
     "output_type": "stream",
     "text": [
      "Esta funcao retorna uma lista com os valores iguais de duas listas. \n",
      "\n",
      "Tamanho lista1: 3 e Tamanho lista2: 8\n",
      "lista1: [2, 9, 0]\n",
      "lista2: [14, 9, 11, 8, 6, 13, 2, 10]\n",
      "\n",
      "Lista de valores iguais: [2, 9]\n"
     ]
    }
   ],
   "source": [
    "# Retorna uma lista contendo os valores iguais entre as duas listas passadas como parâmetro.\n",
    "\n",
    "from random import * # Os valores da lista serao preenchidos de maneira randomica com inteiros\n",
    "from typing import List, Set, Dict, Tuple, Optional\n",
    "\n",
    "def valores_iguais(lista1: List[int], lista2: List[int]) -> int:\n",
    "    lista3: List[int] = []\n",
    "    i: int=0\n",
    "    for i,item in enumerate(lista1):\n",
    "        if item in lista2:\n",
    "            lista3.append(item)\n",
    "    return lista3\n",
    "\n",
    "#**************************************\n",
    "print(\"Esta funcao retorna uma lista com os valores iguais de duas listas. \\n\")\n",
    "lista1: List[int] = [] # Cria a lista\n",
    "lista2: List[int] = []\n",
    "\n",
    "tam1: int = randrange(2,9) # Define um tamanho entre 2 e 9 para a lista 1\n",
    "tam2: int = randrange(2,9) # Define um tamanho entre 2 e 9 para a lista 2\n",
    "print(f\"Tamanho lista1: {tam1} e Tamanho lista2: {tam2}\")\n",
    "\n",
    "# Preenchimento das listas randomicamente com inteiros de 0 a 9\n",
    "i: int=0\n",
    "s: int=0\n",
    "while i<tam1:\n",
    "    while s==0:\n",
    "        num: int = randrange(0,15)\n",
    "        if num in lista1:\n",
    "            s=0\n",
    "        else:\n",
    "            s=1\n",
    "            lista1.append(num)\n",
    "    i=i+1\n",
    "    s=0\n",
    "print(f\"lista1: {lista1}\")\n",
    "\n",
    "i: int=0\n",
    "s: int=0\n",
    "while i<tam2:\n",
    "    while s==0:\n",
    "        num: int = randrange(0,15)\n",
    "        if num in lista2:\n",
    "            s=0\n",
    "        else:\n",
    "            s=1\n",
    "            lista2.append(num)\n",
    "    i=i+1\n",
    "    s=0\n",
    "print(f\"lista2: {lista2}\")\n",
    "\n",
    "print(f\"\\nLista de valores iguais: {valores_iguais(lista1,lista2)}\")"
   ]
  },
  {
   "cell_type": "markdown",
   "metadata": {},
   "source": [
    "Exercicio 05: Funcao indice_prim_valor_igual(lista1,lista2): retorna a posição na lista1 do primeiro valor igual ao da lista2. Caso não exista, é retornado None."
   ]
  },
  {
   "cell_type": "code",
   "execution_count": 7,
   "metadata": {},
   "outputs": [
    {
     "name": "stdout",
     "output_type": "stream",
     "text": [
      "Esta funcao retorna a posição na lista1 do primeiro valor igual ao da lista2 ou None, caso não exista.\n",
      "\n",
      "Tamanho lista1: 6 e Tamanho lista2: 5\n",
      "lista1: [3, 9, 6, 5, 11, 10]\n",
      "lista2: [7, 1, 2, 4, 10]\n",
      "\n",
      "Indice na lista1 do primeiro valor igual ao da lista2: [5]\n"
     ]
    }
   ],
   "source": [
    "# Retorna a posição na lista1 do primeiro valor igual ao da lista2. Caso não exista, é retornado None.\n",
    "\n",
    "from random import * # Os valores das listas serao preenchidos de maneira randomica com inteiros\n",
    "from typing import List, Set, Dict, Tuple, Optional\n",
    "\n",
    "def indice_prim_valor_igual(lista1: List[int],lista2: List[int]) -> int:\n",
    "    pos: int=None\n",
    "    i: int=0\n",
    "    while i<len(lista1):\n",
    "        if lista1[i] in lista2: #se o numero for encontrado na lista2, captura a posicao na lista1\n",
    "            pos = i\n",
    "            break\n",
    "        else:\n",
    "            i=i+1\n",
    "    return pos\n",
    "\n",
    "#**************************************\n",
    "print(\"Esta funcao retorna a posição na lista1 do primeiro valor igual ao da lista2 ou None, caso não exista.\\n\")\n",
    "lista1: List[int] = [] # Cria as listas vazias\n",
    "lista2: List[int] = []\n",
    "\n",
    "tam1: int = randrange(2,9) # Define um tamanho entre 2 e 9 para a lista 1\n",
    "tam2: int = randrange(2,9) # Define um tamanho entre 2 e 9 para a lista 2\n",
    "print(f\"Tamanho lista1: {tam1} e Tamanho lista2: {tam2}\")\n",
    "\n",
    "# Preenchimento das listas randomicamente com inteiros de 0 a 9\n",
    "i: int=0\n",
    "s: int=0\n",
    "while i<tam1:\n",
    "    while s==0:\n",
    "        num: int = randrange(0,15)\n",
    "        if num in lista1:\n",
    "            s=0\n",
    "        else:\n",
    "            s=1\n",
    "            lista1.append(num)\n",
    "    i=i+1\n",
    "    s=0\n",
    "print(f\"lista1: {lista1}\")\n",
    "\n",
    "i: int=0\n",
    "s: int=0\n",
    "while i<tam2:\n",
    "    while s==0:\n",
    "        num: int = randrange(0,15)\n",
    "        if num in lista2:\n",
    "            s=0\n",
    "        else:\n",
    "            s=1\n",
    "            lista2.append(num)\n",
    "    i=i+1\n",
    "    s=0\n",
    "print(f\"lista2: {lista2}\")\n",
    "\n",
    "print(f\"\\nIndice na lista1 do primeiro valor igual ao da lista2: [{indice_prim_valor_igual(lista1,lista2)}]\")"
   ]
  }
 ],
 "metadata": {
  "kernelspec": {
   "display_name": "Python 3",
   "language": "python",
   "name": "python3"
  },
  "language_info": {
   "codemirror_mode": {
    "name": "ipython",
    "version": 3
   },
   "file_extension": ".py",
   "mimetype": "text/x-python",
   "name": "python",
   "nbconvert_exporter": "python",
   "pygments_lexer": "ipython3",
   "version": "3.7.7"
  }
 },
 "nbformat": 4,
 "nbformat_minor": 4
}
