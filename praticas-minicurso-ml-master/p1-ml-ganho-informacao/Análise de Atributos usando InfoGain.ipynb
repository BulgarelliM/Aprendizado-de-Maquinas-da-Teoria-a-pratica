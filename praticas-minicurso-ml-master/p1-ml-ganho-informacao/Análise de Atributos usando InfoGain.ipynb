{
 "cells": [
  {
   "cell_type": "markdown",
   "metadata": {},
   "source": [
    "## Antes de Começar\n",
    "\n",
    "- Opcional: Leia e faça os exercícios sobre Python [aqui](Básico%20-%20Python.ipynb);\n",
    "- Instale o pandas. Usando pip, pode-se fazer este comando: `pip3 install pandas matplotlib numpy` (em alguns Sistemas Operacionais/configurações, você usará `pip` ao inves de `pip3`) \n",
    "\n",
    "\n"
   ]
  },
  {
   "cell_type": "markdown",
   "metadata": {},
   "source": [
    "### O que você precisa saber?"
   ]
  },
  {
   "cell_type": "markdown",
   "metadata": {},
   "source": [
    "**Pandas:** Entenda o funcionamento da biblioteca Pandas [aqui](Básico%20-%20Pandas.ipynb). Nesta prática você vai precisar entender como filtrar os dados e o uso do [value_counts](https://pandas.pydata.org/pandas-docs/stable/reference/api/pandas.Series.value_counts.html) além de como criar um Dataframe.\n",
    "\n",
    "\n",
    "**Aulas introdutórias:** Veja [a video aula 1](https://www.youtube.com/watch?v=fasqKSx2-TE&list=PLwIaU1DGYV6tUx10fCTw5aPnqypbbK_GJ&index=2&t=2s) completa e, além disso [a explicação sobre ganho de informação neste video](https://www.youtube.com/watch?v=8nV6lICu-l8&list=PLwIaU1DGYV6tUx10fCTw5aPnqypbbK_GJ&index=8). [Slides mais detalhado do calculo pode ser visto aqui](https://docs.google.com/presentation/d/1TgLJbcRj_Q5I-zqYYgMqyomKRxalW0Q0saJIS3XXeX8/edit?usp=sharing).\n",
    "\n",
    "\n",
    "### Termos importantes:\n",
    "\n",
    "**Entrada**: Representada por um vetor em que cada posição possui um indicador que auxilia na predição da tarefa em questão. Por exemplo, para prevermos se um email é spam ou não, um indicador poderia ser a quantidade de erros ortográficos.  Cada item da entrada é geralmente chamado de **atributo** - também pode ser chamado de **indicador**, **característica** ou, do inglês, **_features_**\n",
    "\n",
    "**Classe alvo (em inglês, _target class_**): é o valor que queremos prever representado por dois ou mais *rótulos* (sim ou não são dois rótulos, por exemplo).  Também chamado de **ground truth**."
   ]
  },
  {
   "cell_type": "markdown",
   "metadata": {},
   "source": [
    "## Implementação do Ganho de Informação"
   ]
  },
  {
   "cell_type": "markdown",
   "metadata": {},
   "source": [
    "Implemente o código no arquivo `ganho_informacao.py` de acordo com as instruções comentadas. Faça na ordem das funçoes que estiverem lá. Para cada função implementada, rode o teste unitário para verificar se a mesma está funcionando (veja na próxima seção). Os [slides de ganho de informação](https://docs.google.com/presentation/d/1TgLJbcRj_Q5I-zqYYgMqyomKRxalW0Q0saJIS3XXeX8/edit?usp=sharing) poderão ajudar.\n",
    "\n",
    "Caso queira, você também pode usar esse notebook para testar. Para isso, comente a importação do módulo `ganho_informacao` e copie a função aqui no notebook para testà-la e, quando tiver funcionando, copie e cole ela de volta no arquivo `ganho_informação.py`;\n",
    "\n",
    "**Atenção:** após rodar o comando de import neste notebook, caso precise mudar algo no código `ganho_informacao.py` e visualizar o resultado aqui, você deverá reiniciar o kernel (kernel -> restart)."
   ]
  },
  {
   "cell_type": "markdown",
   "metadata": {},
   "source": [
    "O teste unitário é feito executando o arquivo `tests.py` explicitando, opcionalmente, a classe/método que desejamos executar. Logo após implementar uma função, teste-o usando o teste unitário correspondente. Para isso, pressione `ctrl+enter` na célula com o comando de teste abaixo para executá-lo. Se o Python 3 do seu computador for executado como `python` você deverá alterar os comandos abaixo apropriadamente."
   ]
  },
  {
   "cell_type": "markdown",
   "metadata": {},
   "source": [
    "**Teste 1 - função `entropia`:**"
   ]
  },
  {
   "cell_type": "code",
   "execution_count": 1,
   "metadata": {},
   "outputs": [
    {
     "name": "stdout",
     "output_type": "stream",
     "text": [
      ".\n",
      "----------------------------------------------------------------------\n",
      "Ran 1 test in 0.006s\n",
      "\n",
      "OK\n"
     ]
    }
   ],
   "source": [
    "!python3 -m tests TestInfoGain.test_entropy"
   ]
  },
  {
   "cell_type": "markdown",
   "metadata": {},
   "source": [
    "**Teste 2 - função `ganho_informacao_condicional`:**"
   ]
  },
  {
   "cell_type": "code",
   "execution_count": 2,
   "metadata": {},
   "outputs": [
    {
     "name": "stdout",
     "output_type": "stream",
     "text": [
      ".\n",
      "----------------------------------------------------------------------\n",
      "Ran 1 test in 0.021s\n",
      "\n",
      "OK\n"
     ]
    }
   ],
   "source": [
    "!python3 -m tests TestInfoGain.teste_ganho_informacao_condicional"
   ]
  },
  {
   "cell_type": "markdown",
   "metadata": {},
   "source": [
    "**Teste 3 - função `ganho_informacao`:**"
   ]
  },
  {
   "cell_type": "code",
   "execution_count": 3,
   "metadata": {},
   "outputs": [
    {
     "name": "stdout",
     "output_type": "stream",
     "text": [
      ".\n",
      "----------------------------------------------------------------------\n",
      "Ran 1 test in 0.023s\n",
      "\n",
      "OK\n"
     ]
    }
   ],
   "source": [
    "!python3 -m tests TestInfoGain.test_info_gain"
   ]
  },
  {
   "cell_type": "markdown",
   "metadata": {},
   "source": [
    "Importação das bibliotecas necessárias. Sempre que quiser acessar alguma função/classe do pandas use, por exemplo: pd.DataFrame()"
   ]
  },
  {
   "cell_type": "code",
   "execution_count": 4,
   "metadata": {},
   "outputs": [],
   "source": [
    "import numpy as np\n",
    "import pandas as pd\n",
    "from ganho_informacao import entropia,ganho_informacao"
   ]
  },
  {
   "cell_type": "markdown",
   "metadata": {},
   "source": [
    "Como, no código acima, chamamos o módulo pandas de \"pd\", então, temos que referencia-lo sempre que quisermos intanciar uma classe/chamar uma função deste módulo. Exemplo:"
   ]
  },
  {
   "cell_type": "code",
   "execution_count": 5,
   "metadata": {},
   "outputs": [
    {
     "data": {
      "text/html": [
       "<div>\n",
       "<style scoped>\n",
       "    .dataframe tbody tr th:only-of-type {\n",
       "        vertical-align: middle;\n",
       "    }\n",
       "\n",
       "    .dataframe tbody tr th {\n",
       "        vertical-align: top;\n",
       "    }\n",
       "\n",
       "    .dataframe thead th {\n",
       "        text-align: right;\n",
       "    }\n",
       "</style>\n",
       "<table border=\"1\" class=\"dataframe\">\n",
       "  <thead>\n",
       "    <tr style=\"text-align: right;\">\n",
       "      <th></th>\n",
       "      <th>col1</th>\n",
       "    </tr>\n",
       "  </thead>\n",
       "  <tbody>\n",
       "    <tr>\n",
       "      <th>0</th>\n",
       "      <td>a</td>\n",
       "    </tr>\n",
       "    <tr>\n",
       "      <th>1</th>\n",
       "      <td>b</td>\n",
       "    </tr>\n",
       "    <tr>\n",
       "      <th>2</th>\n",
       "      <td>c</td>\n",
       "    </tr>\n",
       "  </tbody>\n",
       "</table>\n",
       "</div>"
      ],
      "text/plain": [
       "  col1\n",
       "0    a\n",
       "1    b\n",
       "2    c"
      ]
     },
     "execution_count": 5,
     "metadata": {},
     "output_type": "execute_result"
    }
   ],
   "source": [
    "pd.DataFrame({\"col1\":[\"a\",\"b\",\"c\"]})"
   ]
  },
  {
   "cell_type": "markdown",
   "metadata": {},
   "source": [
    "Faça um DataFrame do exemplo [nos slides sobre Ganho de Informação (sobre a renda e o crédito aprovado)](https://docs.google.com/presentation/d/1TgLJbcRj_Q5I-zqYYgMqyomKRxalW0Q0saJIS3XXeX8/edit?usp=sharing). Logo após, calcule a entropia e o ganho de informação do atributo Renda. Confira os resultados com os slides."
   ]
  },
  {
   "cell_type": "code",
   "execution_count": 9,
   "metadata": {
    "scrolled": true
   },
   "outputs": [
    {
     "name": "stdout",
     "output_type": "stream",
     "text": [
      "   Renda Credito aprovado\n",
      "0   Alta              Sim\n",
      "1   Alta              Sim\n",
      "2   Alta              Sim\n",
      "3  Baixa              Não\n",
      "4   Alta              Não\n",
      "5  Baixa              Não\n",
      "6  Baixa              Não\n",
      "7  Baixa              Não\n",
      "\n",
      "Ganho de Informação: 0.5449999999999999\n",
      "\n"
     ]
    }
   ],
   "source": [
    "## Seu código aqui - Criação do DataFrame \n",
    "import math\n",
    "\n",
    "teste= pd.DataFrame({\"Renda\": [\"Alta\",\"Alta\",\"Alta\",\"Baixa\",\"Alta\",\"Baixa\",\"Baixa\",\"Baixa\"],\"Credito aprovado\":[\"Sim\",\"Sim\",\"Sim\",\"Não\",\"Não\",\"Não\",\"Não\",\"Não\"],})\n",
    "\n",
    "col=teste.columns\n",
    "print(teste)\n",
    "\n",
    "valores_obtidos = ganho_informacao(teste, \"Credito aprovado\", \"Renda\")\n",
    "print(f\"\\nGanho de Informação: {valores_obtidos}\\n\")\n"
   ]
  },
  {
   "cell_type": "code",
   "execution_count": 8,
   "metadata": {},
   "outputs": [],
   "source": [
    "## Seu código aqui - Calculo da Entropia do atributo Renda\n",
    "import pandas as pd\n",
    "import math\n",
    "\n",
    "def entropia(df_dados:pd.DataFrame, nom_col_classe:str) -> float:\n",
    "    \"\"\"\n",
    "        Calcula a entropia de acordo com df_dados (DataFrame) e a classe. Use a função math.log com\n",
    "        o log na base 2. Não esqueça de importar o módulo math.\n",
    "\n",
    "        df_dados: Dados a serem considerados para o calculo da entropia\n",
    "        nom_col_classe: nome da coluna (em df_dados) que representa a classe\n",
    "    \"\"\"\n",
    "    #substitua os None/0 quando necessario para completar o código\n",
    "    df_dados.replace({\"None\":0})\n",
    "    #ser_count_col armazena, para cada valor da classe (coluna), a sua quantidade\n",
    "    ser_count_col = df_dados[nom_col_classe].value_counts()\n",
    "    num_total = len(df_dados) #pega o num de linhas\n",
    "    entropia = 0\n",
    "\n",
    "    #Navege em ser_count_col para fazer o calculo da entropia\n",
    "    for val_atr,count_atr in ser_count_col.iteritems():\n",
    "        #altere os valores de val_prob e entropia para o calculo correto da mesma\n",
    "        #val_prob deverá ser a proporção de instancias de uma determinada classe\n",
    "        #caso tenha duvida sobre o iteritems e value_counts, consulte o passo a passo do pandas\n",
    "        \n",
    "        val_prob = (count_atr*1)/num_total\n",
    "        entropia += (-val_prob*math.log(val_prob,2))\n",
    "    return round(entropia,4)"
   ]
  },
  {
   "cell_type": "code",
   "execution_count": 7,
   "metadata": {},
   "outputs": [],
   "source": [
    "## Seu código aqui - Calculo do InfoGain\n",
    "import pandas as pd\n",
    "\n",
    "def ganho_informacao_condicional(df_dados: pd.DataFrame, val_entropia_y:float, nom_col_classe:str, nom_atributo:str, val_atributo:float) ->float:\n",
    "    \"\"\"\n",
    "    Calcula o GI(Y|nom_atributo=val_atributo), ou seja,\n",
    "    calcula o ganho de informação do atributo 'nom_atributo' quando ele assume o valor 'val_atributo'.\n",
    "    O valor de Entropia(Y) já foi calculado e está armazenado em val_entropia_y.\n",
    "    Dica: A entropia condicional pode ser calculada filtrando o DataFrame df_dados.\n",
    "\n",
    "    df_dados: Dataframe com os dados a serem analisados.\n",
    "    val_entropia_y: Entropia(Y) (ver slides)\n",
    "    nom_col_classe: nome da coluna que representa a classe\n",
    "    nom_atributo: atributo a ser calculado o ganho de informação\n",
    "    val_atributo: valor do atributo a ser considerado para este calculo\n",
    "    \"\"\"\n",
    "    #substitua os \"None\"/0 quando necessario para completar o código\n",
    "    df_dados.replace({\"None\":0})\n",
    "    #.em df_dados_filtrado, filtre o df_dados da forma correta - pensando quais\n",
    "    #elementos considerar na entropia condicional Entropia(Y|nom_atributo=val_atributo).\n",
    "    df_dados_filtrado = df_dados[df_dados[nom_atributo]==val_atributo]\n",
    "\n",
    "    #use df_dados_filtrado para obter o valor de Entropia(Y|nom_atributo=val_atributo)\n",
    "    val_ent_condicional = entropia(df_dados_filtrado, nom_col_classe)\n",
    "    \n",
    "    #use val_ent_condicional para calcular o GI(Y|nom_atributo=val_atributo)\n",
    "    val_gi = round(val_entropia_y - val_ent_condicional,2)\n",
    "\n",
    "    #para testes:\n",
    "    #print(\"GI({classe}| {atr}={val}) = {val_gi}\".format(classe=nom_col_classe,atr=nom_atributo,val=val_atributo,val_gi=val_gi))\n",
    "\n",
    "    return val_gi\n",
    "\n",
    "\n",
    "def ganho_informacao(df_dados:pd.DataFrame, nom_col_classe:str, nom_atributo:str) -> float:\n",
    "    \"\"\"\n",
    "        Calcula GI(Y| nom_atributo), ou seja, o ganho de informação do atributo nom_atributo.\n",
    "\n",
    "        df_dados: DataFrame com os dados a serem analisados.\n",
    "        nom_col_classe: nome da coluna que representa a classe\n",
    "        nom_atributo: atributo a ser calculado o ganho de informação\n",
    "        val_atributo: valor do atributo a ser considerado para este calculo\n",
    "    \"\"\"\n",
    "    #Muito similar ao codigo da entropia, mas aqui você deverá navegar sobre\n",
    "    #os possiveis valores do atributo nom_atributo para calcular o infoGain\n",
    "    #(usando a função ganho_informacao_condicional)\n",
    "    #substitua os \"None\"/0 quando necessario para completar o código\n",
    "    df_dados.replace(to_replace=\"None\", value=0.0, inplace=True)\n",
    "    \n",
    "    #atenção nessa linha abaixo, qual é o valor que temos que colocar em None?\n",
    "    #o que precisamos contabilizar dessa vez?\n",
    "    ser_count_col = df_dados[nom_atributo].value_counts() # pega todos os possiveis valores na coluna e suas qtd\n",
    "\n",
    "    val_entropia_y = entropia(df_dados, nom_col_classe) \n",
    "\n",
    "    num_total = len(df_dados)\n",
    "    val_info_gain = 0\n",
    "\n",
    "    for val_atr,count_atr in ser_count_col.iteritems():\n",
    "        val_prob = (count_atr*1)/ num_total\n",
    "        val_info_gain += val_prob * ganho_informacao_condicional(df_dados, val_entropia_y, nom_col_classe, nom_atributo, val_atr)\n",
    "\n",
    "        #print(\"GI(\"+nom_col_classe+\"| \"+nom_atributo+\"=\"+val_atr+\") = \"+str(val_info_gain))\n",
    "\n",
    "    return val_info_gain"
   ]
  },
  {
   "cell_type": "markdown",
   "metadata": {},
   "source": [
    "## Análise de Atributos para Diferenciar Espécies de [Plantas do Gênero Iris](https://en.wikipedia.org/wiki/Iris_(plant))"
   ]
  },
  {
   "cell_type": "markdown",
   "metadata": {},
   "source": [
    "<img src=\"imgs/partes_flor.png\" alt=\"Partes de uma flor\">\n",
    "\n",
    "Plantas do gênero Iris possuem diversas espécies que podem ser diferenciadas por algumas caracteristicas da flor.  Nesta prática, iremos investigar quais atributos distinguem melhor algumas espécies dessa planta. Para isso, usaremos [este dataset](iris.csv) que possui 150 plantas do gênero Iris com atributos de sua flor (propriedades): \n",
    "\n",
    "- Tamanho e largura do sépala (em cm)\n",
    "\n",
    "- Tamanho e largura da pétala (em cm)\n",
    "\n",
    "Existem 3 espécies de plantas do genero Iris na base que será usada: [Iris Setosa](https://en.wikipedia.org/wiki/Iris_setosa), [Iris Virginifica](https://en.wikipedia.org/wiki/Iris_virginica) e [Iris Versicolor](https://en.wikipedia.org/wiki/Iris_versicolor)\n",
    "\n",
    "Nesta atividade, você deverá:\n",
    "\n",
    "1. Calcular do InfoGain de cada atributo. Armazene o resultado em um DataFrame de duas colunas - nome do atributo e valor de infogain - ordene de forma decrescente pelo valor do InfoGain .\n",
    "\n",
    "1. Gerar um gráfico de disperção (*scatter plot*) em que o eixo x e y são os dois atributos com InfoGain mais altos e com 3 grupos, cada grupo, uma espécie de flor diferente.\n",
    "\n",
    "Iniciamente, leia o CSV e armazene-o em um DataFrame por meio do [método read_csv do pandas](https://pandas.pydata.org/pandas-docs/stable/reference/api/pandas.read_csv.html)."
   ]
  },
  {
   "cell_type": "code",
   "execution_count": 10,
   "metadata": {
    "scrolled": true
   },
   "outputs": [],
   "source": [
    "# Leia o CSV e armazene-o em um DataFrame - use a função read_csv do pandas\n",
    "import numpy as np\n",
    "import pandas as pd\n",
    "import math\n",
    "import matplotlib\n",
    "import matplotlib.pyplot as plt\n",
    "from ganho_informacao import *\n",
    "\n",
    "tabela = pd.DataFrame({'Atributo' : [],'InfoGain' : [] })\n",
    "tabela_aux = pd.DataFrame()\n",
    "\n",
    "pd.DataFrame = pd.read_csv('iris.csv')\n",
    "iris=pd.DataFrame\n",
    "#print(iris)\n",
    "iris=iris[[\"Species\", \"Sepal Length\", \"Sepal Width\", \"Petal Length\", \"Petal Width\"]]\n",
    "col=iris.columns"
   ]
  },
  {
   "cell_type": "markdown",
   "metadata": {},
   "source": [
    "Agora, por meio das funções que você implementou, calcule o InfoGain de cada atributo. O DataFrame possui um atributo `columns` que pode ajudar. Armazene o resultado em um DataFrame de duas colunas - nome do atributo e valor de infogain - ordene essa tabela pelo InfoGain, [use o método sort_values do DataFrame](https://pandas.pydata.org/pandas-docs/version/0.19/generated/pandas.DataFrame.sort_values.html#pandas.DataFrame.sort_values). Para criação do novo DataFrame com o infogain, você pode criar uma matriz e depois adiciona-la em um DataFrame novo."
   ]
  },
  {
   "cell_type": "code",
   "execution_count": 11,
   "metadata": {},
   "outputs": [
    {
     "name": "stdout",
     "output_type": "stream",
     "text": [
      "       Atributo  InfoGain\n",
      "1   Sepal Width  0.510870\n",
      "0  Sepal Length  0.876938\n",
      "3   Petal Width  1.435898\n",
      "2  Petal Length  1.446317\n"
     ]
    }
   ],
   "source": [
    "i:int = 0\n",
    "for coluna, item in iris.iteritems():\n",
    "    if coluna != col[0]:\n",
    "        valores_obtidos = ganho_informacao(pd.DataFrame, col[0], coluna)\n",
    "        tabela.loc[i] = [coluna, valores_obtidos]  # adiciona uma linha\n",
    "        i=i+1\n",
    "    \n",
    "dfordenado = tabela.sort_values(by='InfoGain')\n",
    "\n",
    "df1=dfordenado[dfordenado.index>-1]\n",
    "print(df1)"
   ]
  },
  {
   "cell_type": "markdown",
   "metadata": {},
   "source": [
    "Gere um gráfico de disperção (scatter plot) em que o eixo x e y são os dois atributos com InfoGain mais altos e com 3 grupos, cada grupo, uma espécie de flor diferente. [Veja o Jupyter do Pandas, se necessário](Básico%20-%20Pandas.ipynb). "
   ]
  },
  {
   "cell_type": "code",
   "execution_count": 12,
   "metadata": {},
   "outputs": [
    {
     "data": {
      "image/png": "[encoded data removed]",
      "text/plain": [
       "<Figure size 432x288 with 2 Axes>"
      ]
     },
     "metadata": {
      "needs_background": "light"
     },
     "output_type": "display_data"
    }
   ],
   "source": [
    "# Crie o gráfico solicitado\n",
    "pd.options.mode.chained_assignment = None  # default='warn'\n",
    "tam: int = len(df1) # pega tam do dataframe para acessar as duas ultimas posicoes\n",
    "\n",
    "eixo_x = df1.iloc[tam-1].values # maior\n",
    "eixo_y = df1.iloc[tam-2].values # quase maior\n",
    "\n",
    "\n",
    "#seleciona apenas as colunas de interesse\n",
    "for i, item in iris.iteritems():\n",
    "    if (i != col[0]) and (i!=eixo_x[0]) and (i!=eixo_y[0]):\n",
    "        iris.drop([i], axis=1, inplace=True)\n",
    "\n",
    "# vamos montar o grafico\n",
    "#tabela_aux.replace({\"None\":0})\n",
    "iris.replace(to_replace=\"None\", value=0.0, inplace=True)\n",
    "\n",
    "ser_count_col=iris[col[0]].value_counts()\n",
    "\n",
    "j:int=0\n",
    "for i, qt in ser_count_col.iteritems():\n",
    "    iris.replace(to_replace=(i), value=j, inplace=True)\n",
    "    j=j+1\n",
    "#print(tabela_aux)\n",
    "\n",
    "iris.plot.scatter(x='Petal Length',y ='Petal Width',c='Species', colormap='viridis')\n",
    "\n",
    "plt.show()"
   ]
  },
  {
   "cell_type": "code",
   "execution_count": 13,
   "metadata": {},
   "outputs": [
    {
     "data": {
      "text/plain": [
       "<matplotlib.axes._subplots.AxesSubplot at 0x7f1bec9592d0>"
      ]
     },
     "execution_count": 13,
     "metadata": {},
     "output_type": "execute_result"
    },
    {
     "data": {
      "image/png": "[encoded data removed]",
      "text/plain": [
       "<Figure size 432x288 with 1 Axes>"
      ]
     },
     "metadata": {
      "needs_background": "light"
     },
     "output_type": "display_data"
    }
   ],
   "source": [
    "#filtra os contatos por cidade (para fazer grupos)\n",
    "iris0 = iris[iris['Species']==0]\n",
    "iris1 = iris[iris['Species']==1]\n",
    "iris2 = iris[iris['Species']==2]\n",
    "#Cria o plot com os dois grupos\n",
    "plot_gp1 = iris0.plot.scatter(x='Petal Length', y='Petal Width', color='DarkBlue', label='Iris-setosa')\n",
    "iris1.plot.scatter(x='Petal Length', y='Petal Width', color='Red', label='Iris-versicolor',ax=plot_gp1)\n",
    "iris2.plot.scatter(x='Petal Length', y='Petal Width', color='Green', label='Iris-virginica',ax=plot_gp1)"
   ]
  },
  {
   "cell_type": "markdown",
   "metadata": {},
   "source": [
    "## Opcional: discretização dos atributos numéricos\n",
    "\n",
    "Nesta versão de InfoGain, não discretizamos quando o valor é numérico. Porém, o correto seria discretizarmos cada atributo numérico. Caso queira, discretize, para isso: \n",
    "\n",
    "- Você deverá discretizar apenas atributos numéricos. Use a função is_numeric_dtype do módulo pandas.api.types (não esqueça de importar esse módulo)\n",
    "\n",
    "- Altere o parametro 'bin' de value_counts na função ganho_informacao. [Veja a documentação](https://pandas.pydata.org/pandas-docs/version/0.17.0/generated/pandas.Series.value_counts.html); \n",
    "\n",
    "- Você deverá alterar a forma que será filtrado os valores do ganho de informação. Para o filtro, use operadores logicos bitwise e verifique como funciona o objeto [Inteval](https://pandas.pydata.org/pandas-docs/version/0.23.4/generated/pandas.Interval.html)\n",
    "\n",
    "Após discretizar, reinicie o kernel e verifique o resultado da análise novamente.\n",
    "\n",
    "Muitas vezes, depois da discritização o resultado de infogain pode mudar, nem sempre para um valor mais alto. Isso se deve a forma que ele é discretizado. Dependendo da forma, podemos perder informação. Fazer a discretização de uma forma que a divisão forneça o maior ganho de informação possível pode ser uma boa alternativa."
   ]
  },
  {
   "cell_type": "markdown",
   "metadata": {},
   "source": [
    "## Informações sobre da Base de Dados (retirada do [Weka](https://www.cs.waikato.ac.nz/ml/weka/))"
   ]
  },
  {
   "cell_type": "markdown",
   "metadata": {},
   "source": [
    "1. Title: Iris Plants Database\n",
    " \n",
    "2. Sources:\n",
    "      - (a) Creator: R.A. Fisher\n",
    "      - (b) Donor: Michael Marshall (MARSHALL%PLU@io.arc.nasa.gov)\n",
    "      - (c) Date: July, 1988\n",
    "\n",
    "3. Past Usage:\n",
    "    1. Fisher,R.A. \"The use of multiple measurements in taxonomic problems\"\n",
    "       Annual Eugenics, 7, Part II, 179-188 (1936); also in \"Contributions\n",
    "       to Mathematical Statistics\" (John Wiley, NY, 1950).\n",
    "    2. Duda,R.O., & Hart,P.E. (1973) Pattern Classification and Scene Analysis.\n",
    "       (Q327.D83) John Wiley & Sons.  ISBN 0-471-22361-1.  See page 218.\n",
    "    3. Dasarathy, B.V. (1980) \"Nosing Around the Neighborhood: A New System\n",
    "       Structure and Classification Rule for Recognition in Partially Exposed\n",
    "       Environments\".  IEEE Transactions on Pattern Analysis and Machine\n",
    "       Intelligence, Vol. PAMI-2, No. 1, 67-71.\n",
    "    4. Gates, G.W. (1972) \"The Reduced Nearest Neighbor Rule\".  IEEE \n",
    "       Transactions on Information Theory, May 1972, 431-433.\n",
    "    5. See also: 1988 MLC Proceedings, 54-64.  Cheeseman et al's AUTOCLASS II\n",
    "       conceptual clustering system finds 3 classes in the data.\n",
    " \n",
    "4. Relevant Information:\n",
    "        This is perhaps the best known database to be found in the pattern\n",
    "        recognition literature.  Fisher's paper is a classic in the field\n",
    "        and is referenced frequently to this day.  (See Duda & Hart, for\n",
    "        example.)  The data set contains 3 classes of 50 instances each,\n",
    "        where each class refers to a type of iris plant.  One class is\n",
    "        linearly separable from the other 2; the latter are NOT linearly\n",
    "        separable from each other."
   ]
  }
 ],
 "metadata": {
  "kernelspec": {
   "display_name": "Python 3",
   "language": "python",
   "name": "python3"
  },
  "language_info": {
   "codemirror_mode": {
    "name": "ipython",
    "version": 3
   },
   "file_extension": ".py",
   "mimetype": "text/x-python",
   "name": "python",
   "nbconvert_exporter": "python",
   "pygments_lexer": "ipython3",
   "version": "3.7.7"
  }
 },
 "nbformat": 4,
 "nbformat_minor": 4
}
